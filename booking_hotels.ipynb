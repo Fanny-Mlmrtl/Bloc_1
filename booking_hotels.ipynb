{
 "cells": [
  {
   "cell_type": "code",
   "execution_count": 5,
   "metadata": {},
   "outputs": [
    {
     "data": {
      "text/plain": [
       "[{'city': 'Amiens',\n",
       "  'hotel name': 'Le Cottage des Hortillonnages',\n",
       "  'url': 'https://www.booking.com/hotel/fr/le-cottage-des-hortillons.en-gb.html',\n",
       "  'score': '9.3'},\n",
       " {'city': 'Amiens',\n",
       "  'hotel name': 'Holiday Inn Express Amiens, an IHG Hotel',\n",
       "  'url': 'https://www.booking.com/hotel/fr/express-by-holiday-inn.en-gb.html',\n",
       "  'score': '7.9'},\n",
       " {'city': 'Amiens',\n",
       "  'hotel name': 'Hotel Le Prieuré et La Résidence',\n",
       "  'url': 'https://www.booking.com/hotel/fr/le-prieure-amiens.en-gb.html',\n",
       "  'score': '8.3'}]"
      ]
     },
     "execution_count": 5,
     "metadata": {},
     "output_type": "execute_result"
    }
   ],
   "source": [
    "import json\n",
    "file = open(\"folder/booking_hotels.json\")\n",
    "results = json.load(file)\n",
    "results[:3]"
   ]
  },
  {
   "cell_type": "code",
   "execution_count": 6,
   "metadata": {},
   "outputs": [
    {
     "data": {
      "text/html": [
       "<div>\n",
       "<style scoped>\n",
       "    .dataframe tbody tr th:only-of-type {\n",
       "        vertical-align: middle;\n",
       "    }\n",
       "\n",
       "    .dataframe tbody tr th {\n",
       "        vertical-align: top;\n",
       "    }\n",
       "\n",
       "    .dataframe thead th {\n",
       "        text-align: right;\n",
       "    }\n",
       "</style>\n",
       "<table border=\"1\" class=\"dataframe\">\n",
       "  <thead>\n",
       "    <tr style=\"text-align: right;\">\n",
       "      <th></th>\n",
       "      <th>city</th>\n",
       "      <th>hotel name</th>\n",
       "      <th>url</th>\n",
       "      <th>score</th>\n",
       "    </tr>\n",
       "  </thead>\n",
       "  <tbody>\n",
       "    <tr>\n",
       "      <th>0</th>\n",
       "      <td>Amiens</td>\n",
       "      <td>Le Cottage des Hortillonnages</td>\n",
       "      <td>https://www.booking.com/hotel/fr/le-cottage-de...</td>\n",
       "      <td>9.3</td>\n",
       "    </tr>\n",
       "    <tr>\n",
       "      <th>1</th>\n",
       "      <td>Amiens</td>\n",
       "      <td>Holiday Inn Express Amiens, an IHG Hotel</td>\n",
       "      <td>https://www.booking.com/hotel/fr/express-by-ho...</td>\n",
       "      <td>7.9</td>\n",
       "    </tr>\n",
       "    <tr>\n",
       "      <th>2</th>\n",
       "      <td>Amiens</td>\n",
       "      <td>Hotel Le Prieuré et La Résidence</td>\n",
       "      <td>https://www.booking.com/hotel/fr/le-prieure-am...</td>\n",
       "      <td>8.3</td>\n",
       "    </tr>\n",
       "    <tr>\n",
       "      <th>3</th>\n",
       "      <td>Amiens</td>\n",
       "      <td>L’ÉMERAUDE AMIENS</td>\n",
       "      <td>https://www.booking.com/hotel/fr/emeraude-amie...</td>\n",
       "      <td>9.7</td>\n",
       "    </tr>\n",
       "    <tr>\n",
       "      <th>4</th>\n",
       "      <td>Amiens</td>\n",
       "      <td>Odalys City Amiens Blamont</td>\n",
       "      <td>https://www.booking.com/hotel/fr/appart-39-oda...</td>\n",
       "      <td>8.0</td>\n",
       "    </tr>\n",
       "  </tbody>\n",
       "</table>\n",
       "</div>"
      ],
      "text/plain": [
       "     city                                hotel name  \\\n",
       "0  Amiens             Le Cottage des Hortillonnages   \n",
       "1  Amiens  Holiday Inn Express Amiens, an IHG Hotel   \n",
       "2  Amiens          Hotel Le Prieuré et La Résidence   \n",
       "3  Amiens                         L’ÉMERAUDE AMIENS   \n",
       "4  Amiens                Odalys City Amiens Blamont   \n",
       "\n",
       "                                                 url score  \n",
       "0  https://www.booking.com/hotel/fr/le-cottage-de...   9.3  \n",
       "1  https://www.booking.com/hotel/fr/express-by-ho...   7.9  \n",
       "2  https://www.booking.com/hotel/fr/le-prieure-am...   8.3  \n",
       "3  https://www.booking.com/hotel/fr/emeraude-amie...   9.7  \n",
       "4  https://www.booking.com/hotel/fr/appart-39-oda...   8.0  "
      ]
     },
     "execution_count": 6,
     "metadata": {},
     "output_type": "execute_result"
    }
   ],
   "source": [
    "import pandas as pd\n",
    "df = pd.DataFrame(results)\n",
    "df.head()"
   ]
  },
  {
   "cell_type": "code",
   "execution_count": 7,
   "metadata": {},
   "outputs": [
    {
     "name": "stdout",
     "output_type": "stream",
     "text": [
      "url list: ['https://www.booking.com/hotel/fr/le-cottage-des-hortillons.en-gb.html']\n"
     ]
    }
   ],
   "source": [
    "url_list = [url for url in df[\"url\"]]\n",
    "print(\"url list:\",url_list[:1])"
   ]
  },
  {
   "cell_type": "code",
   "execution_count": 8,
   "metadata": {},
   "outputs": [],
   "source": [
    "textfile = open(\"folder/url_booking_hotels.txt\", \"w\")\n",
    "for element in url_list:\n",
    "    textfile.write(element + \"\\n\")\n",
    "textfile.close()"
   ]
  }
 ],
 "metadata": {
  "kernelspec": {
   "display_name": "Python 3.10.7 ('env': venv)",
   "language": "python",
   "name": "python3"
  },
  "language_info": {
   "codemirror_mode": {
    "name": "ipython",
    "version": 3
   },
   "file_extension": ".py",
   "mimetype": "text/x-python",
   "name": "python",
   "nbconvert_exporter": "python",
   "pygments_lexer": "ipython3",
   "version": "3.10.8"
  },
  "orig_nbformat": 4,
  "vscode": {
   "interpreter": {
    "hash": "41298ebe0b62698198717b552d1d7505ed5de220b6aa0ef38e96a86ec1127b86"
   }
  }
 },
 "nbformat": 4,
 "nbformat_minor": 2
}
